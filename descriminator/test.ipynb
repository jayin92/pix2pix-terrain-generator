{
 "cells": [
  {
   "cell_type": "code",
   "execution_count": 46,
   "metadata": {},
   "outputs": [],
   "source": [
    "import torch\n",
    "import torchvision as tv\n",
    "import glob\n",
    "import os\n",
    "import sys\n",
    "import numpy as np\n",
    "import pandas as pd\n",
    "import PIL\n",
    "import time"
   ]
  },
  {
   "cell_type": "code",
   "execution_count": 47,
   "metadata": {},
   "outputs": [],
   "source": [
    "class MountainDataset(torch.utils.data.Dataset):\n",
    "    def __init__(self, root_dir=\"./datasets/test\", transforms=None):\n",
    "        super(MountainDataset, self).__init__()\n",
    "        if not os.path.isdir(root_dir):\n",
    "            raise FileNotFoundError(\"Dir {} Error\".format(root_dir))\n",
    "        \n",
    "        self._data = glob.glob(os.path.join(root_dir, \"*.png\"))\n",
    "        self._root = root_dir\n",
    "        if transforms:\n",
    "            self._transforms = transforms\n",
    "        else:\n",
    "            self._transforms = tv.transforms.ToTensor()\n",
    "    \n",
    "    def __getitem__(self, index):\n",
    "        image = PIL.Image.open(self._data[index])\n",
    "        data = self._transforms(image)\n",
    "        label = self._data[index]\n",
    "        \n",
    "        return (data, label)\n",
    "    \n",
    "    def __len__(self):\n",
    "        return len(self._data)"
   ]
  },
  {
   "cell_type": "code",
   "execution_count": 48,
   "metadata": {},
   "outputs": [],
   "source": [
    "model = tv.models.inception_v3()\n",
    "model.fc = torch.nn.Linear(2048, 2) # change output layer\n",
    "model.cuda()\n",
    "model.eval()\n",
    "device = torch.device('cuda') if torch.cuda.is_available() else torch.device('cpu')\n",
    "# device = torch.device('cpu')\n",
    "model.to(device)\n",
    "criterion = torch.nn.modules.CrossEntropyLoss()\n",
    "learning_rate = 0.01\n",
    "optimizer = torch.optim.SGD(model.parameters(), lr=learning_rate)"
   ]
  },
  {
   "cell_type": "code",
   "execution_count": 49,
   "metadata": {},
   "outputs": [
    {
     "data": {
      "text/plain": [
       "IncompatibleKeys(missing_keys=[], unexpected_keys=[])"
      ]
     },
     "execution_count": 49,
     "metadata": {},
     "output_type": "execute_result"
    }
   ],
   "source": [
    "model.load_state_dict(torch.load(\"checkpoints/latest.pth\"), strict=False)"
   ]
  },
  {
   "cell_type": "code",
   "execution_count": 63,
   "metadata": {},
   "outputs": [],
   "source": [
    "transform_testing = tv.transforms.Compose([\n",
    "    tv.transforms.Resize((299, 299)),\n",
    "    tv.transforms.ToTensor(),\n",
    "    tv.transforms.Normalize(mean = [0.5, 0.5, 0.5], std = [0.5, 0.5, 0.5])\n",
    "])\n",
    "\n",
    "dataset_testing = MountainDataset(transforms=transform_testing)\n",
    "data_loader_testing = torch.utils.data.DataLoader(dataset_testing, batch_size = 20, shuffle=True, num_workers=3)"
   ]
  },
  {
   "cell_type": "code",
   "execution_count": 66,
   "metadata": {},
   "outputs": [
    {
     "name": "stdout",
     "output_type": "stream",
     "text": [
      "./datasets/test/perlin_022_fake_B.png\n",
      "./datasets/test/perlin_057_fake_B.png\n",
      "./datasets/test/perlin_002_4oct.png\n",
      "./datasets/test/100,100_Taiwan.png\n",
      "./datasets/test/perlin_058_fake_B.png\n",
      "./datasets/test/perlin_003_4oct.png\n",
      "./datasets/test/perlin_006_4oct.png\n",
      "./datasets/test/perlin_005_4oct.png\n",
      "./datasets/test/perlin_021_fake_B.png\n",
      "./datasets/test/perlin_004_4oct.png\n",
      "./datasets/test/perlin_056_fake_B.png\n",
      "./datasets/test/perlin_007_8oct.png\n",
      "./datasets/test/perlin_024_fake_B.png\n",
      "./datasets/test/perlin_023_fake_B.png\n",
      "./datasets/test/perlin_059_fake_B.png\n",
      "tensor([[-1.7771,  2.3334],\n",
      "        [ 0.5738,  0.0993],\n",
      "        [ 1.5491, -0.8460],\n",
      "        [-3.7806,  4.0441],\n",
      "        [ 0.0931,  0.6074],\n",
      "        [ 2.6711, -2.4182],\n",
      "        [ 1.3363, -0.7270],\n",
      "        [ 1.8782, -1.3025],\n",
      "        [-0.2240,  1.1092],\n",
      "        [ 2.1039, -1.4347],\n",
      "        [ 0.2330,  0.2084],\n",
      "        [ 2.5624, -1.9204],\n",
      "        [-0.4495,  1.2247],\n",
      "        [-0.3751,  1.0232],\n",
      "        [-0.7357,  1.6136]], device='cuda:0', grad_fn=<AddmmBackward>)\n",
      "tensor([0.1179, 0.0126, 0.0049, 0.6525, 0.0210, 0.0010, 0.0055, 0.0031, 0.0347,\n",
      "        0.0027, 0.0141, 0.0017, 0.0389, 0.0318, 0.0574], device='cuda:0',\n",
      "       grad_fn=<SoftmaxBackward>)\n",
      "\n"
     ]
    },
    {
     "name": "stderr",
     "output_type": "stream",
     "text": [
      "/root/anaconda3/envs/pytorch/lib/python3.6/site-packages/ipykernel_launcher.py:12: UserWarning: Implicit dimension choice for softmax has been deprecated. Change the call to include dim=X as an argument.\n",
      "  if sys.path[0] == '':\n"
     ]
    }
   ],
   "source": [
    "sm = torch.nn.Softmax()\n",
    "for (inputs, labels) in data_loader_testing:\n",
    "    for file in labels:\n",
    "        print(file)\n",
    "    inputs = inputs.to(device)\n",
    "    labels = inputs.to(device)\n",
    "    \n",
    "    optimizer.zero_grad()\n",
    "    \n",
    "    outputs = model(inputs)\n",
    "    \n",
    "    pro = sm(outputs[:, 1])\n",
    "    print(outputs)\n",
    "    print(pro)\n",
    "    print()"
   ]
  },
  {
   "cell_type": "code",
   "execution_count": null,
   "metadata": {},
   "outputs": [],
   "source": []
  }
 ],
 "metadata": {
  "kernelspec": {
   "display_name": "Python 3.7.5 64-bit ('pytorch': conda)",
   "language": "python",
   "name": "python37564bitpytorchconda154a455a96ad474a8c54f6d31f7f6805"
  },
  "language_info": {
   "codemirror_mode": {
    "name": "ipython",
    "version": 3
   },
   "file_extension": ".py",
   "mimetype": "text/x-python",
   "name": "python",
   "nbconvert_exporter": "python",
   "pygments_lexer": "ipython3",
   "version": "3.7.5"
  }
 },
 "nbformat": 4,
 "nbformat_minor": 2
}
