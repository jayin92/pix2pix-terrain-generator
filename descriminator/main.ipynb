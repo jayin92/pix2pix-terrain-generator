{
 "cells": [
  {
   "cell_type": "code",
   "execution_count": 1,
   "metadata": {},
   "outputs": [],
   "source": [
    "import torch\n",
    "import torchvision as tv\n",
    "import glob\n",
    "import os\n",
    "import sys\n",
    "import numpy as np\n",
    "import pandas as pd\n",
    "import PIL\n",
    "import time"
   ]
  },
  {
   "cell_type": "code",
   "execution_count": 25,
   "metadata": {},
   "outputs": [],
   "source": [
    "class MountainDataset(torch.utils.data.Dataset):\n",
    "    def __init__(self, root_dir=\"./datasets/\", transforms=None):\n",
    "        super(MountainDataset, self).__init__()\n",
    "        if not os.path.isdir(root_dir):\n",
    "            raise FileNotFoundError(\"Dir {} Error\".format(root_dir))\n",
    "        \n",
    "        self._data = glob.glob(os.path.join(root_dir, \"*/*.png\"))\n",
    "        self._root = root_dir\n",
    "        if transforms:\n",
    "            self._transforms = transforms\n",
    "        else:\n",
    "            self._transforms = tv.transforms.ToTensor()\n",
    "    \n",
    "    def __getitem__(self, index):\n",
    "        print(self._data[index])\n",
    "        image = PIL.Image.open(self._data[index])\n",
    "        print(image)\n",
    "        data = self._transforms(image)\n",
    "        label = int(self._data[index].replace(self._root, \"\").replace(\"/\", \"\")[0])\n",
    "        print(label)\n",
    "        \n",
    "        return (data, label)\n",
    "    \n",
    "    def __len__(self):\n",
    "        return len(self._data)"
   ]
  },
  {
   "cell_type": "code",
   "execution_count": null,
   "metadata": {},
   "outputs": [],
   "source": [
    "def save_weight(model, file_name, directory = \"checkpoints\"):\n",
    "    torch.save(model.state_dict(), \"{}/{}\".format(directory, file_name))\n",
    "    print(\"Weight saved.\")"
   ]
  },
  {
   "cell_type": "code",
   "execution_count": null,
   "metadata": {},
   "outputs": [],
   "source": [
    "device = torch.device('cuda') if torch.cuda.is_available() else torch.device('cpu')\n",
    "\n",
    "model.to(device)\n",
    "\n",
    "\n",
    "def run_one_epoch():    \n",
    "    # training\n",
    "    start = time.time()\n",
    "    model.train()\n",
    "    for inputs, labels in data_loader_training:\n",
    "        inputs = inputs.to(device)\n",
    "        labels = labels.to(device)\n",
    "        \n",
    "        optimizer.zero_grad()\n",
    "        \n",
    "        outputs = model(inputs)\n",
    "        predicted = torch.max(outputs.data, 1)[1]\n",
    "        corrected += (predicted == labels)[1]\n",
    "        \n",
    "        # backward\n",
    "        loss = criterion(outputs, labels)\n",
    "        loss.backward()\n",
    "        running_loss += loss.data.item()\n",
    "        \n",
    "        optimizer.step()\n",
    "    \n",
    "    running_loss /= len(data_loader_training)\n",
    "    training_acc = corrected / len(data_loader_training)\n",
    "    corrected = 0\n",
    "    \n",
    "    # testing\n",
    "    model.eval()\n",
    "    for inputs, labels in data_loader_testing:\n",
    "        inputs = inputs.to(device)\n",
    "        labels = labels.to(device)\n",
    "        \n",
    "        optimizer.zero_grad()\n",
    "        \n",
    "        outputs = model(inputs)\n",
    "        predicted = torch.max(outputs.data, 1)[1]\n",
    "        corrected += (predicted == labels)[1]\n",
    "    end = time.time()\n",
    "    \n",
    "    testing_acc = corrected / len(data_loader_testing)\n",
    "    \n",
    "    return (end-start, training_acc, testing_acc, running_loss)\n",
    "    \n",
    "def confusion_mat(model, data_loader):\n",
    "    all_labels = []\n",
    "    all_predicted = []\n",
    "    model.eval()\n",
    "    \n",
    "    for inputs, labels in enumerate(data_loader):\n",
    "        inputs = inputs.to(device)\n",
    "        labels = inputs.to(device)\n",
    "        \n",
    "        all_label = np.concatenate((all_labels, labels.cpu()))\n",
    "        \n",
    "        outputs = model(inputs)\n",
    "        predicted = torch.max(outputs.data, 1)[1]\n",
    "        corrected += (predicted == labels).sum()\n",
    "        \n",
    "        all_predicted = np.concatenate((all_predicted, predicted.cpu()))\n",
    "    \n",
    "    confusion_matrix = pd.crosstab(pd.Series(all_labels, name=\"Actual\"), pd.Series(all_predicted, name=\"Predicted\"))\n"
   ]
  },
  {
   "cell_type": "code",
   "execution_count": 18,
   "metadata": {},
   "outputs": [
    {
     "name": "stdout",
     "output_type": "stream",
     "text": [
      "1.3.1\n"
     ]
    }
   ],
   "source": [
    "print(torch.__version__)"
   ]
  },
  {
   "cell_type": "code",
   "execution_count": 19,
   "metadata": {
    "scrolled": false
   },
   "outputs": [],
   "source": [
    "model = tv.models.inception_v3(pretrained=True)\n",
    "model.fc = torch.nn.Linear(1024, 2) # change output layer"
   ]
  },
  {
   "cell_type": "code",
   "execution_count": 20,
   "metadata": {},
   "outputs": [],
   "source": [
    "criterion = torch.nn.modules.CrossEntropyLoss()"
   ]
  },
  {
   "cell_type": "code",
   "execution_count": 21,
   "metadata": {},
   "outputs": [],
   "source": [
    "learning_rate = 0.01\n",
    "optimizer = torch.optim.SGD(model.parameters(), lr=learning_rate)"
   ]
  },
  {
   "cell_type": "code",
   "execution_count": 37,
   "metadata": {},
   "outputs": [],
   "source": [
    "root_dir = \"./datasets/\"\n",
    "\n",
    "\n",
    "transform_training = tv.transforms.Compose([\n",
    "    tv.transforms.RandomHorizontalFlip(p=0.5),\n",
    "    tv.transforms.RandomVerticalFlip(p=0.5),\n",
    "    tv.transforms.Resize((224, 224)),\n",
    "    tv.transforms.ToTensor(),\n",
    "    tv.transforms.Normalize(mean = [0.5, 0.5, 0.5], std = [0.5, 0.5, 0.5])\n",
    "])\n",
    "\n",
    "transform_testing = tv.transforms.Compose([\n",
    "    tv.transforms.Resize((224, 224)),\n",
    "    tv.transforms.ToTensor(),\n",
    "    tv.transforms.Normalize(mean = [0.5, 0.5, 0.5], std = [0.5, 0.5, 0.5])\n",
    "])\n",
    "\n",
    "dataset_training = MountainDataset(root_dir, transform_training)\n",
    "dataset_testing = MountainDataset(root_dir, transform_testing)\n",
    "\n",
    "indices = torch.randperm(len(dataset_training)).tolist()\n",
    "dataset_training = torch.utils.data.Subset(dataset_training, indices[:-50])\n",
    "dataset_testing = torch.utils.data.Subset(dataset_testing, indices[-50:])\n",
    "\n",
    "data_loader_training = torch.utils.data.DataLoader(dataset_training, batch_size = 2, shuffle=True, num_workers=1)\n",
    "data_loader_testing = torch.utils.data.DataLoader(dataset_testing, batch_size = 2, shuffle=True, num_workers=1)\n"
   ]
  },
  {
   "cell_type": "code",
   "execution_count": null,
   "metadata": {},
   "outputs": [],
   "source": [
    "epoch_number = 10\n",
    "best_acc = 0\n",
    "best_loss = sys.float_info.max\n",
    "for epoch in range(epoch_number):\n",
    "    runtime, training_acc, testing_acc, loss = run_one_epoch()\n",
    "    print(\"[Epoch #{}] runtime:{.5f} sec., train_acc:{}, test_acc:{}, loss:{}\".format(epoch, runtime, training_acc, testing_acc, loss))\n",
    "    \n",
    "    if train_acc > best_acc:\n",
    "        best_acc = train_acc\n",
    "        best_loss = loss\n",
    "        save_weight(model, \"latest.pth\")\n",
    "    print()\n",
    "\n",
    "\n",
    "print(\"Training complete. Best accuracy:{}, Best Loss:{}\".format(best_acc, best_loss))"
   ]
  }
 ],
 "metadata": {
  "kernelspec": {
   "display_name": "Python 3",
   "language": "python",
   "name": "python3"
  },
  "language_info": {
   "codemirror_mode": {
    "name": "ipython",
    "version": 3
   },
   "file_extension": ".py",
   "mimetype": "text/x-python",
   "name": "python",
   "nbconvert_exporter": "python",
   "pygments_lexer": "ipython3",
   "version": "3.7.5"
  }
 },
 "nbformat": 4,
 "nbformat_minor": 2
}
