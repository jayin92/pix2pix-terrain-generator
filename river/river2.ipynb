{
 "cells": [
  {
   "cell_type": "code",
   "execution_count": 57,
   "metadata": {},
   "outputs": [],
   "source": [
    "import cv2\n",
    "from matplotlib import pyplot as plt\n",
    "import random\n",
    "from skimage.util import invert\n",
    "import numpy as np\n",
    "from scipy.interpolate import lagrange\n",
    "import math"
   ]
  },
  {
   "cell_type": "code",
   "execution_count": 125,
   "metadata": {},
   "outputs": [],
   "source": [
    "def Bezier(A, con, B, t):    \n",
    "    return (1-t)**2 * A + 2*t*(1-t) * con + t**2 * B\n",
    "\n",
    "def circle(p, color):\n",
    "    x = p[0]\n",
    "    y = p[1]\n",
    "    cv2.circle(img, (int(y), int(x)), 5, color, -1)\n",
    "\n",
    "def slope(A, B):\n",
    "    return (A[1] - B[1]) / (A[0] - B[0])\n",
    "\n",
    "def dis(A, B):\n",
    "    return math.sqrt((A[0] - B[0]) ** 2 + (A[1] - B[1]) ** 2)"
   ]
  },
  {
   "cell_type": "code",
   "execution_count": 28,
   "metadata": {},
   "outputs": [
    {
     "name": "stdout",
     "output_type": "stream",
     "text": [
      "[ 82 160] [ 71 113]\n"
     ]
    },
    {
     "data": {
      "text/plain": [
       "<matplotlib.image.AxesImage at 0x7f443d157b38>"
      ]
     },
     "execution_count": 28,
     "metadata": {},
     "output_type": "execute_result"
    },
    {
     "data": {
      "image/png": "[encoded data removed]",
      "text/plain": [
       "<Figure size 432x288 with 1 Axes>"
      ]
     },
     "metadata": {
      "needs_background": "light"
     },
     "output_type": "display_data"
    }
   ],
   "source": [
    "size = 256\n",
    "\n",
    "img = (cv2.imread(\"river_skel.png\"))\n",
    "\n",
    "ori = []\n",
    "for x in range(256):\n",
    "    for y in range(256):\n",
    "        if img[x][y][0] == 255:\n",
    "            ori.append(np.array([x, y]))\n",
    "\n",
    "random.shuffle(ori)\n",
    "circle(B)\n",
    "circle(mid)\n",
    "\n",
    "con1 = np.array([random.randrange(int(mid[0]),int(A[0])), random.randrange(int(mid[1]),int(A[1]))])\n",
    "con2 = np.array([random.randrange(int(B[0]), int(mid[0])), random.randrange(int(B[1]), int(mid[1]))])\n",
    "\n",
    "print(con1, con2)\n",
    "circle(con1)\n",
    "circle(con2)\n",
    "\n",
    "for t in np.linspace(0, 1, 10000):\n",
    "    tmp1 = Bezier(A, con1, mid, t)\n",
    "    img[int(tmp1[0])][int(tmp1[1])][1] =  255\n",
    "    \n",
    "\n",
    "for t in np.linspace(0, 1, 10000):\n",
    "    tmp2 = Bezier(mid, con2, B, t)\n",
    "    img[int(tmp2[0])][int(tmp2[1])][1] =  255\n",
    "    \n",
    "    \n",
    "plt.imshow(img)"
   ]
  },
  {
   "cell_type": "code",
   "execution_count": 166,
   "metadata": {},
   "outputs": [
    {
     "name": "stdout",
     "output_type": "stream",
     "text": [
      "0.17453292519943295\n",
      "1.5 1.0468034750622515\n"
     ]
    },
    {
     "data": {
      "text/plain": [
       "<matplotlib.image.AxesImage at 0x7f443af3e9b0>"
      ]
     },
     "execution_count": 166,
     "metadata": {},
     "output_type": "execute_result"
    },
    {
     "data": {
      "image/png": "[encoded data removed]",
      "text/plain": [
       "<Figure size 432x288 with 1 Axes>"
      ]
     },
     "metadata": {
      "needs_background": "light"
     },
     "output_type": "display_data"
    }
   ],
   "source": [
    "img = (cv2.imread(\"river_skel.png\"))\n",
    "ori = []\n",
    "the =  10 * (2*np.pi / 360)\n",
    "print(the)\n",
    "r = 50\n",
    "for x in range(256):\n",
    "    for y in range(256):\n",
    "        if img[x][y][0] == 255:\n",
    "            ori.append(np.array([x, y]))\n",
    "\n",
    "index = random.randrange(len(ori))\n",
    "A1 = ori[index]\n",
    "A2 = ori[index+10]\n",
    "circle(A1, (255, 255, 0))\n",
    "# circle(A2, (255, 0, 0))\n",
    "m1 = slope(A1, A2)\n",
    "m2 = (m1 - np.tan(the)) / (np.tan(the) * m1 + 1)\n",
    "b = A1[1] - m2 * A1[0]\n",
    "\n",
    "print(m1, m2)\n",
    "\n",
    "for x in range(size):\n",
    "    for y in range(size):\n",
    "        if y <= m2 * x + b + 1 and y >= m2 * x + b - 1:\n",
    "            if dis(A1, np.array([x, y])) >= r - 10 and dis(A1, np.array([x, y])) <= r + 10:\n",
    "                B = np.array([x, y])\n",
    "#                 print(B)\n",
    "\n",
    "con = np.array([random.randrange(min(A1[0], B[0]), max(A1[0], B[0])), random.randrange(min(A1[1], B[1]), max(A1[1], B[1]))])\n",
    "circle(B, (0, 0, 255))\n",
    "circle(con, (0, 255, 0))\n",
    "for t in np.linspace(0, 1, 10000):\n",
    "    tmp1 = Bezier(A1, con, B, t)\n",
    "    img[int(tmp1[0])][int(tmp1[1])][1] =  255\n",
    "    \n",
    "plt.imshow(img)\n",
    "    "
   ]
  },
  {
   "cell_type": "code",
   "execution_count": null,
   "metadata": {},
   "outputs": [],
   "source": []
  },
  {
   "cell_type": "code",
   "execution_count": null,
   "metadata": {},
   "outputs": [],
   "source": []
  }
 ],
 "metadata": {
  "kernelspec": {
   "display_name": "Python 3",
   "language": "python",
   "name": "python3"
  },
  "language_info": {
   "codemirror_mode": {
    "name": "ipython",
    "version": 3
   },
   "file_extension": ".py",
   "mimetype": "text/x-python",
   "name": "python",
   "nbconvert_exporter": "python",
   "pygments_lexer": "ipython3",
   "version": "3.5.2"
  }
 },
 "nbformat": 4,
 "nbformat_minor": 2
}
