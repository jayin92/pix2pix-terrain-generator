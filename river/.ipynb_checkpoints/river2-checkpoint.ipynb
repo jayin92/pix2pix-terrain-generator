{
 "cells": [
  {
   "cell_type": "code",
   "execution_count": 196,
   "metadata": {},
   "outputs": [],
   "source": [
    "import cv2\n",
    "from matplotlib import pyplot as plt\n",
    "import random\n",
    "from skimage.util import invert\n",
    "import numpy as np\n",
    "from scipy.interpolate import lagrange"
   ]
  },
  {
   "cell_type": "code",
   "execution_count": 197,
   "metadata": {},
   "outputs": [],
   "source": [
    "def Bezier(A, con, B, t):    \n",
    "    return (1-t)**2*A + t*(1-t)*con + t**2*B\n",
    "\n",
    "def circle(p):\n",
    "    x = p[0]\n",
    "    y = p[1]\n",
    "    cv2.circle(img, (int(y), int(x)), 5, (255, 0, 0), -1)"
   ]
  },
  {
   "cell_type": "code",
   "execution_count": 228,
   "metadata": {},
   "outputs": [
    {
     "data": {
      "text/plain": [
       "<matplotlib.image.AxesImage at 0x7fe183ca1550>"
      ]
     },
     "execution_count": 228,
     "metadata": {},
     "output_type": "execute_result"
    },
    {
     "data": {
      "image/png": "[encoded data removed]",
      "text/plain": [
       "<Figure size 432x288 with 1 Axes>"
      ]
     },
     "metadata": {
      "needs_background": "light"
     },
     "output_type": "display_data"
    }
   ],
   "source": [
    "size = 256\n",
    "\n",
    "img = invert(cv2.imread(\"river.png\"))\n",
    "\n",
    "ori = []\n",
    "for x in range(256):\n",
    "    for y in range(256):\n",
    "        if img[x][y][0] == 255:\n",
    "            ori.append(np.array([x, y]))\n",
    "\n",
    "random.shuffle(ori)\n",
    "A = ori[0]\n",
    "B = np.array([random.randrange(size), random.randrange(size)])\n",
    "mid = (A+B)/2\n",
    "\n",
    "circle(A)\n",
    "circle(B)\n",
    "circle(mid)\n",
    "\n",
    "con1 = np.array([random.randrange(int(mid[0]),int(A[0])), random.randrange(int(mid[1]),int(A[1]))])\n",
    "con2 = np.array([random.randrange(int(B[0]), int(mid[0])), random.randrange(int(B[1]), int(mid[1]))])\n",
    "\n",
    "circle(con1)\n",
    "circle(con2)\n",
    "\n",
    "for t in np.linspace(0, 1, 10000):\n",
    "    tmp1 = Bezier(A, con1, mid, t)\n",
    "    tmp2 = Bezier(mid, con2, B, t)\n",
    "    img[int(tmp1[0])][int(tmp1[1])][1] =  255\n",
    "    \n",
    "    img[int(tmp2[0])][int(tmp2[1])][1] =  255\n",
    "\n",
    "plt.imshow(img)"
   ]
  },
  {
   "cell_type": "code",
   "execution_count": null,
   "metadata": {},
   "outputs": [],
   "source": []
  },
  {
   "cell_type": "code",
   "execution_count": null,
   "metadata": {},
   "outputs": [],
   "source": []
  }
 ],
 "metadata": {
  "kernelspec": {
   "display_name": "Python 3",
   "language": "python",
   "name": "python3"
  },
  "language_info": {
   "codemirror_mode": {
    "name": "ipython",
    "version": 3
   },
   "file_extension": ".py",
   "mimetype": "text/x-python",
   "name": "python",
   "nbconvert_exporter": "python",
   "pygments_lexer": "ipython3",
   "version": "3.7.3"
  }
 },
 "nbformat": 4,
 "nbformat_minor": 2
}
