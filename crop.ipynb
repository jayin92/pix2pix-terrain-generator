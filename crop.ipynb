{
 "cells": [
  {
   "cell_type": "code",
   "execution_count": null,
   "metadata": {},
   "outputs": [],
   "source": [
    "import cv2\n",
    "import numpy\n",
    "import matplotlib.pyplot as plt\n",
    "import numpy as np"
   ]
  },
  {
   "cell_type": "code",
   "execution_count": null,
   "metadata": {},
   "outputs": [],
   "source": [
    "im = cv2.imread(\"heightmap/26.900,100.000.png\")"
   ]
  },
  {
   "cell_type": "code",
   "execution_count": null,
   "metadata": {},
   "outputs": [],
   "source": [
    "w = im.shape[0]\n",
    "d = im.shape[1]\n",
    "size = 256\n",
    "for x_ in range(0, w, 50):\n",
    "    for y_ in range(0, d, 50):\n",
    "        data = []\n",
    "        tmp = im[x_:x_+size, y_:y_+size]\n",
    "        for x in tmp:\n",
    "            for y in x:\n",
    "                data.append(y[0] + 256 * y[1] + 256 ** 2 * y[2])\n",
    "        max_ = max(data)\n",
    "        min_ = min(data)\n",
    "        total = float(255)\n",
    "        data = [float(((num - min_) / ((max_ - min_)/total))) for num in data]\n",
    "        output = np.zeros((size, size, 3))\n",
    "        count = 0;\n",
    "        try:\n",
    "            for x in output:\n",
    "                for y in x:\n",
    "                    y[0] = data[count]\n",
    "                    y[1] = data[count]\n",
    "                    y[2] = data[count]\n",
    "                    count += 1\n",
    "            cv2.imwrite(\"heightmap/China256/{},{}.png\".format(x_, y_), output)\n",
    "            print(x_, y_, \"finished!\")\n",
    "        except:\n",
    "            print(x_, y_, \"error\")\n"
   ]
  }
 ],
 "metadata": {
  "kernelspec": {
   "display_name": "Python 3",
   "language": "python",
   "name": "python3"
  },
  "language_info": {
   "codemirror_mode": {
    "name": "ipython",
    "version": 3
   },
   "file_extension": ".py",
   "mimetype": "text/x-python",
   "name": "python",
   "nbconvert_exporter": "python",
   "pygments_lexer": "ipython3",
   "version": "3.5.5"
  }
 },
 "nbformat": 4,
 "nbformat_minor": 2
}
